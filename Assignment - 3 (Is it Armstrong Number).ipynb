{
 "cells": [
  {
   "cell_type": "code",
   "execution_count": 11,
   "metadata": {},
   "outputs": [
    {
     "name": "stdout",
     "output_type": "stream",
     "text": [
      "bir cümle yazınız:32516\n",
      "True\n"
     ]
    }
   ],
   "source": [
    "a = input(\"bir cümle yazınız:\")\n",
    "print(a.isdigit())"
   ]
  },
  {
   "cell_type": "code",
   "execution_count": null,
   "metadata": {},
   "outputs": [],
   "source": [
    "sayi =int(input(\"bir sayi giriniz:\")\n",
    "          "
   ]
  },
  {
   "cell_type": "code",
   "execution_count": 12,
   "metadata": {},
   "outputs": [
    {
     "name": "stdout",
     "output_type": "stream",
     "text": [
      "Yapılacak İşlemi Seçin.\n",
      "=======================\n",
      "1.Toplama\n",
      "2.Çıkarma\n",
      "3.Çarpma\n",
      "4.Bölme\n",
      "Seçiminiz (1/2/3/4):1\n",
      "1. Sayı: 25\n",
      "2. Sayı: 4\n",
      "25 + 4 = 29\n"
     ]
    }
   ],
   "source": [
    "# Toplama Fonksiyonu\n",
    "def Topla(x, y):\n",
    "   return x + y\n",
    " \n",
    "# Çıkarma Fonksiyonu\n",
    "def Cikar(x, y):\n",
    "   return x - y\n",
    " \n",
    "# Çarpma Fonksiiyonu\n",
    "def Carp(x, y):\n",
    "   return x * y\n",
    " \n",
    "# Bölme Fonksiyonu\n",
    "def Bol(x, y):\n",
    "   return x / y\n",
    " \n",
    "print(\"Yapılacak İşlemi Seçin.\")\n",
    "print(\"=======================\")\n",
    "print(\"1.Toplama\")\n",
    "print(\"2.Çıkarma\")\n",
    "print(\"3.Çarpma\")\n",
    "print(\"4.Bölme\")\n",
    " \n",
    "# Kullanıcıdan Seçim İsteme\n",
    "secim = input(\"Seçiminiz (1/2/3/4):\")\n",
    " \n",
    "sayi1 = int(input(\"1. Sayı: \"))\n",
    "sayi2 = int(input(\"2. Sayı: \"))\n",
    " \n",
    "if secim == '1':\n",
    "   print(sayi1,\"+\",sayi2,\"=\", Topla(sayi1,sayi2))\n",
    " \n",
    "elif secim == '2':\n",
    "   print(sayi1,\"-\",sayi2,\"=\", Cikar(sayi1,sayi2))\n",
    " \n",
    "elif secim == '3':\n",
    "   print(sayi1,\"*\",sayi2,\"=\", Carp(sayi1,sayi2))\n",
    " \n",
    "elif secim == '4':\n",
    "   print(sayi1,\"/\",sayi2,\"=\", Bol(sayi1,sayi2))\n",
    "else:\n",
    "   print(\"Geçersiz Giriş\")"
   ]
  },
  {
   "cell_type": "code",
   "execution_count": null,
   "metadata": {},
   "outputs": [],
   "source": []
  }
 ],
 "metadata": {
  "kernelspec": {
   "display_name": "Python 3",
   "language": "python",
   "name": "python3"
  },
  "language_info": {
   "codemirror_mode": {
    "name": "ipython",
    "version": 3
   },
   "file_extension": ".py",
   "mimetype": "text/x-python",
   "name": "python",
   "nbconvert_exporter": "python",
   "pygments_lexer": "ipython3",
   "version": "3.7.6"
  }
 },
 "nbformat": 4,
 "nbformat_minor": 4
}
